{
 "cells": [
  {
   "cell_type": "code",
   "execution_count": 18,
   "id": "9f7028c5",
   "metadata": {},
   "outputs": [],
   "source": [
    "\n",
    "###Prime or not"
   ]
  },
  {
   "cell_type": "code",
   "execution_count": 17,
   "id": "0b298e79",
   "metadata": {},
   "outputs": [
    {
     "name": "stdout",
     "output_type": "stream",
     "text": [
      "Enter a number:77\n",
      "False\n"
     ]
    }
   ],
   "source": [
    "n=int(input(\"Enter a number:\"))\n",
    "def CheckIfPrime(n):\n",
    "    if n<=1 or n%1>0:\n",
    "        return False\n",
    "    for i in range (2,n//2):\n",
    "        if n%i ==0:\n",
    "            return False\n",
    "    return True\n",
    "print(CheckIfPrime(n))"
   ]
  },
  {
   "cell_type": "code",
   "execution_count": null,
   "id": "1d078700",
   "metadata": {},
   "outputs": [],
   "source": [
    "#Multiplication"
   ]
  },
  {
   "cell_type": "code",
   "execution_count": 19,
   "id": "9b36291d",
   "metadata": {},
   "outputs": [
    {
     "name": "stdout",
     "output_type": "stream",
     "text": [
      "12 * 1 = 12\n",
      "12 * 2 = 24\n",
      "12 * 3 = 36\n",
      "12 * 4 = 48\n",
      "12 * 5 = 60\n",
      "12 * 6 = 72\n",
      "12 * 7 = 84\n",
      "12 * 8 = 96\n",
      "12 * 9 = 108\n",
      "12 * 10 = 120\n"
     ]
    }
   ],
   "source": [
    "num = int(12)\n",
    "\n",
    "for i in range(1, 11):\n",
    "    print (\"%d * %d = %d\" % (num, i, num * i))"
   ]
  },
  {
   "cell_type": "code",
   "execution_count": null,
   "id": "6c1c2d8e",
   "metadata": {},
   "outputs": [],
   "source": []
  }
 ],
 "metadata": {
  "kernelspec": {
   "display_name": "Python 3",
   "language": "python",
   "name": "python3"
  },
  "language_info": {
   "codemirror_mode": {
    "name": "ipython",
    "version": 3
   },
   "file_extension": ".py",
   "mimetype": "text/x-python",
   "name": "python",
   "nbconvert_exporter": "python",
   "pygments_lexer": "ipython3",
   "version": "3.8.8"
  }
 },
 "nbformat": 4,
 "nbformat_minor": 5
}
